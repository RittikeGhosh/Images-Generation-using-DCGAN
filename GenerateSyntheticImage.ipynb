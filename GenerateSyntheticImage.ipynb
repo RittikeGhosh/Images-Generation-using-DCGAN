{
  "nbformat": 4,
  "nbformat_minor": 0,
  "metadata": {
    "colab": {
      "name": "GenerateSyntheticImage",
      "provenance": [],
      "collapsed_sections": [],
      "authorship_tag": "ABX9TyMRX3j5h7VxFN9kEoyNXfjo",
      "include_colab_link": true
    },
    "kernelspec": {
      "name": "python3",
      "display_name": "Python 3"
    }
  },
  "cells": [
    {
      "cell_type": "markdown",
      "metadata": {
        "id": "view-in-github",
        "colab_type": "text"
      },
      "source": [
        "<a href=\"https://colab.research.google.com/github/RittikeGhosh/Images-Generation-using-DCGAN/blob/main/GenerateSyntheticImage.ipynb\" target=\"_parent\"><img src=\"https://colab.research.google.com/assets/colab-badge.svg\" alt=\"Open In Colab\"/></a>"
      ]
    },
    {
      "cell_type": "code",
      "metadata": {
        "id": "ip3JCwYd-0m3",
        "outputId": "44b994aa-47ad-4e56-d9bd-2e92b7fabd6a",
        "colab": {
          "base_uri": "https://localhost:8080/",
          "height": 34
        }
      },
      "source": [
        "%matplotlib inline\n",
        "import tensorflow as tf\n",
        "from tensorflow import keras\n",
        "import numpy as np\n",
        "import matplotlib.pyplot as plt\n",
        "import IPython\n",
        "print(f\"Tensorflow Version: {tf.__version__}\")"
      ],
      "execution_count": 1,
      "outputs": [
        {
          "output_type": "stream",
          "text": [
            "Tensorflow Version: 2.3.0\n"
          ],
          "name": "stdout"
        }
      ]
    },
    {
      "cell_type": "markdown",
      "metadata": {
        "id": "2HyA5zhIlXbV"
      },
      "source": [
        "### Define a function to display the images passed in grid format"
      ]
    },
    {
      "cell_type": "code",
      "metadata": {
        "id": "Tc08XtF5F8Xj"
      },
      "source": [
        "def show_images(images, cols=5):\n",
        "    '''Displays the images passed as numpy array in grid layout.\n",
        "    images: \n",
        "        accepts array of numpy arrays containing Images \n",
        "    cols: \n",
        "        number of coloumns in the output'''\n",
        "    cols = min(cols, len(images))\n",
        "    rows = (len(images) - 1) // cols + 1\n",
        "    if images.shape[-1] == 1:\n",
        "        images = np.squeeze(images, axis=-1)\n",
        "    plt.figure(figsize=(2 * cols, 2 * rows), facecolor='#eeeeee')\n",
        "    for i, image in enumerate(images):\n",
        "        plt.subplot(rows, cols, i + 1)\n",
        "        plt.imshow(image, cmap=plt.cm.binary)\n",
        "        plt.axis(False)\n",
        "    plt.show()"
      ],
      "execution_count": 2,
      "outputs": []
    },
    {
      "cell_type": "markdown",
      "metadata": {
        "id": "34RS3E7LA3-J"
      },
      "source": [
        "### Load Dataset\n",
        "Load the [*fashion_mnist*](https://keras.io/api/datasets/fashion_mnist/) dataset from the keras library. \n",
        "- There are 60, 000 training data of size 28 X 28\n",
        "- There are 10, 000 testing data of size 28 X 28\n",
        "\n",
        "\n",
        "Then Normalize the Dataset."
      ]
    },
    {
      "cell_type": "code",
      "metadata": {
        "id": "qg8LqKV1AM3c",
        "outputId": "19bf9611-d4b1-4226-b79e-975a493371fe",
        "colab": {
          "base_uri": "https://localhost:8080/",
          "height": 185
        }
      },
      "source": [
        "# Load the Dataset \n",
        "(x_train, y_train), (x_test, y_test) = keras.datasets.fashion_mnist.load_data()\n",
        "print(f\"Shape of train data : {x_train.shape}\")\n",
        "print(f\"Shape of test data: {x_test.shape}\")"
      ],
      "execution_count": 3,
      "outputs": [
        {
          "output_type": "stream",
          "text": [
            "Downloading data from https://storage.googleapis.com/tensorflow/tf-keras-datasets/train-labels-idx1-ubyte.gz\n",
            "32768/29515 [=================================] - 0s 0us/step\n",
            "Downloading data from https://storage.googleapis.com/tensorflow/tf-keras-datasets/train-images-idx3-ubyte.gz\n",
            "26427392/26421880 [==============================] - 0s 0us/step\n",
            "Downloading data from https://storage.googleapis.com/tensorflow/tf-keras-datasets/t10k-labels-idx1-ubyte.gz\n",
            "8192/5148 [===============================================] - 0s 0us/step\n",
            "Downloading data from https://storage.googleapis.com/tensorflow/tf-keras-datasets/t10k-images-idx3-ubyte.gz\n",
            "4423680/4422102 [==============================] - 0s 0us/step\n",
            "Shape of train data : (60000, 28, 28)\n",
            "Shape of test data: (10000, 28, 28)\n"
          ],
          "name": "stdout"
        }
      ]
    },
    {
      "cell_type": "code",
      "metadata": {
        "id": "qDNhzzrUCkK7",
        "outputId": "d75baa5f-3678-4bcd-e29b-a7df374976c0",
        "colab": {
          "base_uri": "https://localhost:8080/",
          "height": 357
        }
      },
      "source": [
        "# Normalize the Dataset to [-1, 1]\n",
        "x_train = x_train.astype(np.float64) / 255\n",
        "# x_train = (x_train.astype(np.float64) - 127.5) / 127.5\n",
        "x_test  = x_test.astype(np.float64) / 255\n",
        "show_images(x_train[:9], cols=3) # Display First 9 images"
      ],
      "execution_count": 4,
      "outputs": [
        {
          "output_type": "display_data",
          "data": {
            "image/png": "[encoded data removed]",
            "text/plain": [
              "<Figure size 432x432 with 9 Axes>"
            ]
          },
          "metadata": {
            "tags": []
          }
        }
      ]
    },
    {
      "cell_type": "markdown",
      "metadata": {
        "id": "GpZB2GCKMyWr"
      },
      "source": [
        "### Create Mini-Batches\n",
        "Segregating the Dataset into small batches. The advantages are: \n",
        "- More accurate estimation of gradient \n",
        "- Faster training \n",
        "- Computationaly Less Expensive"
      ]
    },
    {
      "cell_type": "code",
      "metadata": {
        "id": "_SJOM8J0IYNE",
        "outputId": "f8c1c3e5-5a2f-4853-8fbc-6257cc075314",
        "colab": {
          "base_uri": "https://localhost:8080/",
          "height": 34
        }
      },
      "source": [
        "batch_size = 32  # set batch size\n",
        "# Create new dataset from the training set and shuffle the items in it.\n",
        "dataset = tf.data.Dataset.from_tensor_slices(x_train).shuffle(x_train.shape[0])\n",
        "# Create Batches of Given size\n",
        "dataset = dataset.batch(batch_size, drop_remainder=True)\n",
        "print(f\"Number of Batches of size {batch_size} created are: {len(list(dataset.as_numpy_iterator()))}\")"
      ],
      "execution_count": 5,
      "outputs": [
        {
          "output_type": "stream",
          "text": [
            "Number of Batches of size 32 created are: 1875\n"
          ],
          "name": "stdout"
        }
      ]
    },
    {
      "cell_type": "markdown",
      "metadata": {
        "id": "rNoTg-9qZK0D"
      },
      "source": [
        "### Create a Generator Model\n",
        "It generates an imitation of the data from the noise to trick the discriminator"
      ]
    },
    {
      "cell_type": "code",
      "metadata": {
        "id": "wt1FItrbXwPR",
        "outputId": "ed7b6fb7-dd29-48a4-d031-ad38790949fe",
        "colab": {
          "base_uri": "https://localhost:8080/",
          "height": 521
        }
      },
      "source": [
        "num_feature = 100\n",
        "generator = tf.keras.Sequential([\n",
        "    # A Dense layer to take the noise as input\n",
        "    keras.layers.Dense(7 * 7 * 256, input_shape=(num_feature,)),\n",
        "    keras.layers.BatchNormalization(),\n",
        "    keras.layers.LeakyReLU(),\n",
        "\n",
        "    # Reshape the input Layer to the next convulation layer\n",
        "    keras.layers.Reshape((7, 7, 256)),\n",
        "\n",
        "    # Transpose Convulation Networks to Upscale the input\n",
        "    keras.layers.Conv2DTranspose(128, (5, 5), strides=(1, 1), padding='same'),\n",
        "    keras.layers.BatchNormalization(),\n",
        "    keras.layers.LeakyReLU(),\n",
        "\n",
        "    keras.layers.Conv2DTranspose(64, (5, 5), strides=(2, 2), padding='same'),\n",
        "    keras.layers.BatchNormalization(),\n",
        "    keras.layers.LeakyReLU(),\n",
        "\n",
        "    keras.layers.Conv2DTranspose(1, (5, 5), strides=(2, 2), padding='same', activation='tanh')\n",
        "], name='generator')\n",
        "generator.summary()"
      ],
      "execution_count": 9,
      "outputs": [
        {
          "output_type": "stream",
          "text": [
            "Model: \"generator\"\n",
            "_________________________________________________________________\n",
            "Layer (type)                 Output Shape              Param #   \n",
            "=================================================================\n",
            "dense_2 (Dense)              (None, 12544)             1266944   \n",
            "_________________________________________________________________\n",
            "batch_normalization_1 (Batch (None, 12544)             50176     \n",
            "_________________________________________________________________\n",
            "leaky_re_lu_3 (LeakyReLU)    (None, 12544)             0         \n",
            "_________________________________________________________________\n",
            "reshape_1 (Reshape)          (None, 7, 7, 256)         0         \n",
            "_________________________________________________________________\n",
            "conv2d_transpose_1 (Conv2DTr (None, 7, 7, 128)         819328    \n",
            "_________________________________________________________________\n",
            "batch_normalization_2 (Batch (None, 7, 7, 128)         512       \n",
            "_________________________________________________________________\n",
            "leaky_re_lu_4 (LeakyReLU)    (None, 7, 7, 128)         0         \n",
            "_________________________________________________________________\n",
            "conv2d_transpose_2 (Conv2DTr (None, 14, 14, 64)        204864    \n",
            "_________________________________________________________________\n",
            "batch_normalization_3 (Batch (None, 14, 14, 64)        256       \n",
            "_________________________________________________________________\n",
            "leaky_re_lu_5 (LeakyReLU)    (None, 14, 14, 64)        0         \n",
            "_________________________________________________________________\n",
            "conv2d_transpose_3 (Conv2DTr (None, 28, 28, 1)         1601      \n",
            "=================================================================\n",
            "Total params: 2,343,681\n",
            "Trainable params: 2,318,209\n",
            "Non-trainable params: 25,472\n",
            "_________________________________________________________________\n"
          ],
          "name": "stdout"
        }
      ]
    },
    {
      "cell_type": "markdown",
      "metadata": {
        "id": "Hy3rZO1OZY3-"
      },
      "source": [
        "### Test generator model with a random Gaussian Distribution"
      ]
    },
    {
      "cell_type": "code",
      "metadata": {
        "id": "QerqybrlJh-s",
        "outputId": "4a0177aa-94ce-4ff1-c4c8-db5eeeeab2c2",
        "colab": {
          "base_uri": "https://localhost:8080/",
          "height": 140
        }
      },
      "source": [
        "noise = tf.random.normal(shape=(1, num_feature))\n",
        "generated_image = generator(noise, training=False)\n",
        "show_images(generated_image, 1)"
      ],
      "execution_count": 10,
      "outputs": [
        {
          "output_type": "display_data",
          "data": {
            "image/png": "[encoded data removed]",
            "text/plain": [
              "<Figure size 144x144 with 1 Axes>"
            ]
          },
          "metadata": {
            "tags": []
          }
        }
      ]
    },
    {
      "cell_type": "markdown",
      "metadata": {
        "id": "SEDCsYFdZkXE"
      },
      "source": [
        "### Create a Discriminator model\n",
        "It will test the image generated by the generator and compare it with the train dataset, to check if it is real and how close it is to being real."
      ]
    },
    {
      "cell_type": "code",
      "metadata": {
        "id": "TKsU2Tp0RJCp",
        "outputId": "5e1f5108-c928-4ad0-b807-78cd2c9d393a",
        "colab": {
          "base_uri": "https://localhost:8080/",
          "height": 420
        }
      },
      "source": [
        "discriminator = keras.models.Sequential([\n",
        "    keras.layers.Conv2D(64, (5, 5), strides=(2, 2), padding='same', input_shape=(28, 28, 1)),\n",
        "    keras.layers.LeakyReLU(0.2),\n",
        "    keras.layers.Dropout(0.3),\n",
        "\n",
        "    keras.layers.Conv2D(128, (5, 5), strides=(2, 2), padding='same'),\n",
        "    keras.layers.LeakyReLU(0.2),\n",
        "    keras.layers.Dropout(0.3),\n",
        "\n",
        "    keras.layers.Flatten(),\n",
        "    keras.layers.Dense(1, activation='sigmoid')\n",
        "], name='discriminator')\n",
        "discriminator.summary()"
      ],
      "execution_count": 11,
      "outputs": [
        {
          "output_type": "stream",
          "text": [
            "Model: \"discriminator\"\n",
            "_________________________________________________________________\n",
            "Layer (type)                 Output Shape              Param #   \n",
            "=================================================================\n",
            "conv2d_2 (Conv2D)            (None, 14, 14, 64)        1664      \n",
            "_________________________________________________________________\n",
            "leaky_re_lu_6 (LeakyReLU)    (None, 14, 14, 64)        0         \n",
            "_________________________________________________________________\n",
            "dropout_2 (Dropout)          (None, 14, 14, 64)        0         \n",
            "_________________________________________________________________\n",
            "conv2d_3 (Conv2D)            (None, 7, 7, 128)         204928    \n",
            "_________________________________________________________________\n",
            "leaky_re_lu_7 (LeakyReLU)    (None, 7, 7, 128)         0         \n",
            "_________________________________________________________________\n",
            "dropout_3 (Dropout)          (None, 7, 7, 128)         0         \n",
            "_________________________________________________________________\n",
            "flatten_1 (Flatten)          (None, 6272)              0         \n",
            "_________________________________________________________________\n",
            "dense_3 (Dense)              (None, 1)                 6273      \n",
            "=================================================================\n",
            "Total params: 212,865\n",
            "Trainable params: 212,865\n",
            "Non-trainable params: 0\n",
            "_________________________________________________________________\n"
          ],
          "name": "stdout"
        }
      ]
    },
    {
      "cell_type": "markdown",
      "metadata": {
        "id": "E_0DRVgFg1Hv"
      },
      "source": [
        "### Test the decision made by the discriminator on the previously generated images"
      ]
    },
    {
      "cell_type": "code",
      "metadata": {
        "id": "r_-REGkAS1fa",
        "outputId": "358fca3a-6fe9-4730-871a-77ca33969e81",
        "colab": {
          "base_uri": "https://localhost:8080/",
          "height": 34
        }
      },
      "source": [
        "decision = discriminator(generated_image)\n",
        "print(decision)"
      ],
      "execution_count": 12,
      "outputs": [
        {
          "output_type": "stream",
          "text": [
            "tf.Tensor([[0.5003323]], shape=(1, 1), dtype=float32)\n"
          ],
          "name": "stdout"
        }
      ]
    },
    {
      "cell_type": "markdown",
      "metadata": {
        "id": "ACQAj46Vk1nO"
      },
      "source": [
        "### Configure the model for training"
      ]
    },
    {
      "cell_type": "code",
      "metadata": {
        "id": "ZWyfptfPS_vP"
      },
      "source": [
        "# generator.compile(loss='binary_crossentropy', optimizer=\"rmsprop\")\n",
        "# discriminator.compile(loss=\"binary_crossentropy\", optimizer=\"rmsprop\")\n",
        "# discriminator.trainable = False\n",
        "gan = keras.models.Sequential([generator, discriminator])\n",
        "gan.compile(loss=\"binary_crossentropy\", optimizer=\"rmsprop\")"
      ],
      "execution_count": 13,
      "outputs": []
    },
    {
      "cell_type": "code",
      "metadata": {
        "id": "wjFGzqw3lYLH"
      },
      "source": [
        "from tqdm import tqdm\n",
        "def train_dcgan(gan, dataset, batch_size, num_features, epochs=5):\n",
        "    generator, discriminator = gan.layers\n",
        "    for epoch in tqdm(range(epochs)):\n",
        "        print(\"Epoch {}/{}\".format(epoch + 1, epochs))\n",
        "        for X_batch in dataset:\n",
        "\n",
        "            noise = tf.random.normal(shape=[batch_size, num_features])\n",
        "            generated_images = generator(noise)\n",
        "            X_fake_and_real = tf.concat([generated_images, X_batch], axis=0)\n",
        "            y1 = tf.constant([[0.]] * batch_size + [[1.]] * batch_size)\n",
        "            discriminator.trainable = True\n",
        "            discriminator.train_on_batch(X_fake_and_real, y1)\n",
        "            noise = tf.random.normal(shape=[batch_size, num_features])\n",
        "            y2 = tf.constant([[1.]] * batch_size)\n",
        "            discriminator.trainable = False\n",
        "            gan.train_on_batch(noise, y2)\n",
        "            \n",
        "            # Produce images for the GIF as we go\n",
        "        display.clear_output(wait=True)\n",
        "        generate_and_save_images(generator, epoch + 1, seed)\n",
        "        \n",
        "    display.clear_output(wait=True)\n",
        "    generate_and_save_images(generator, epochs, seed)"
      ],
      "execution_count": 25,
      "outputs": []
    },
    {
      "cell_type": "code",
      "metadata": {
        "id": "vXq78iLQldEX"
      },
      "source": [
        "## Source https://www.tensorflow.org/tutorials/generative/dcgan#create_a_gif\n",
        "def generate_and_save_images(model, epoch, test_input):\n",
        "  # Notice `training` is set to False.\n",
        "  # This is so all layers run in inference mode (batchnorm).\n",
        "  predictions = model(test_input, training=False)\n",
        "\n",
        "  fig = plt.figure(figsize=(10,10))\n",
        "\n",
        "  for i in range(25):\n",
        "      plt.subplot(5, 5, i+1)\n",
        "      plt.imshow(predictions[i, :, :, 0] * 127.5 + 127.5, cmap='binary')\n",
        "      plt.axis('off')\n",
        "\n",
        "  # plt.savefig('image_at_epoch_{:04d}.png'.format(epoch))\n",
        "  plt.show()"
      ],
      "execution_count": 26,
      "outputs": []
    },
    {
      "cell_type": "code",
      "metadata": {
        "id": "EjnMWwbmlfky"
      },
      "source": [
        ""
      ],
      "execution_count": null,
      "outputs": []
    }
  ]
}